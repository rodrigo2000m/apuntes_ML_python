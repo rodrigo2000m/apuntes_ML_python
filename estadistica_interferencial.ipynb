{
 "cells": [
  {
   "attachments": {},
   "cell_type": "markdown",
   "metadata": {},
   "source": [
    "# Estadística Intereferencial para Data Science e IA"
   ]
  },
  {
   "attachments": {},
   "cell_type": "markdown",
   "metadata": {},
   "source": [
    "Estadística descriptiva: describe el comportamiento de los datos.\n",
    "\n",
    "Estadística inferencial: busca predecit características o resultados."
   ]
  },
  {
   "attachments": {},
   "cell_type": "markdown",
   "metadata": {},
   "source": [
    "## Poblaciones normales\n",
    "\n",
    "\n",
    "### Teorema del límite central\n",
    "Dada una muestra aleatoria suficiente grande de la población, la distribución de las medias seguirá una distribución normal.\n",
    "\n",
    "\n",
    "### Funciones de muestreo\n",
    "\n",
    "##### Muestreo aleatorio simple\n",
    "```py\n",
    "muestreo_8 = my_data.sample(n=8) #muestreo 8 datos\n",
    "muestreo_25 = my_data.sample(frac= .25) #muestreo del 25%\n",
    "```\n",
    "\n",
    "##### Muestreo sistemático\n",
    "```py\n",
    "def systematic_sampling(my_data, step):\n",
    "    indexes = np.arange(0, len(my_data), step=step)\n",
    "    systematic_sample = my_data.iloc(indexes)\n",
    "    return systematic_sample\n",
    "```\n",
    "\n",
    "##### Muestreo estratificado\n",
    "```py\n",
    "my_data[\"estratificado\"] = my_data[\"filtro\"] + \",\" + my_data[\"otro filtro\"]\n",
    "(my_data[\"estratificado\"].value_counts()/len(my_data).sort_values(ascending=False))\n",
    "```"
   ]
  },
  {
   "attachments": {},
   "cell_type": "markdown",
   "metadata": {},
   "source": [
    "# Estadísticos"
   ]
  },
  {
   "cell_type": "code",
   "execution_count": null,
   "metadata": {
    "vscode": {
     "languageId": "plaintext"
    }
   },
   "outputs": [],
   "source": [
    "import pandas as pd"
   ]
  }
 ],
 "metadata": {
  "kernelspec": {
   "display_name": "Python 3",
   "language": "python",
   "name": "python3"
  },
  "language_info": {
   "codemirror_mode": {
    "name": "ipython",
    "version": 3
   },
   "file_extension": ".py",
   "mimetype": "text/x-python",
   "name": "python",
   "nbconvert_exporter": "python",
   "pygments_lexer": "ipython3",
   "version": "3.11.1"
  },
  "orig_nbformat": 4,
  "vscode": {
   "interpreter": {
    "hash": "c261aea317cc0286b3b3261fbba9abdec21eaa57589985bb7a274bf54d6cc0a7"
   }
  }
 },
 "nbformat": 4,
 "nbformat_minor": 2
}
